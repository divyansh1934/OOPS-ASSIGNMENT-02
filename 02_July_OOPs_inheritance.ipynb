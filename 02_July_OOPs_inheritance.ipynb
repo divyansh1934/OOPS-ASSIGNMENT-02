{
 "cells": [
  {
   "cell_type": "markdown",
   "id": "c6e22e21",
   "metadata": {},
   "source": [
    "##                                                ASSIGNMENT-02"
   ]
  },
  {
   "cell_type": "markdown",
   "id": "a22e6760",
   "metadata": {},
   "source": [
    "1. Explain what inheritance is in object-oriented programming and why it is used."
   ]
  },
  {
   "cell_type": "markdown",
   "id": "4020517f",
   "metadata": {},
   "source": [
    "A1. Inheritance in object-oriented programming is like inheriting traits from your parents. It allows a class to inherit characteristics (like variables and functions) from another class. It helps in reusing existing code, organizing it in a hierarchy, and creating new classes that build upon the existing ones."
   ]
  },
  {
   "cell_type": "markdown",
   "id": "6366f96f",
   "metadata": {},
   "source": [
    "2. Discuss the concept of single inheritance and multiple inheritance, highlighting their\n",
    "differences and advantages."
   ]
  },
  {
   "cell_type": "markdown",
   "id": "68679a4e",
   "metadata": {},
   "source": [
    "A2.Single Inheritance:\n",
    "Single inheritance refers to the inheritance  where a derived class can inherit from only one base class. In other words, a class can have only one  parent class only.\n",
    "\n",
    "Advantages of single inheritance include:\n",
    "Simplicity: Single inheritance provides a simple class hierarchy, as each class has only one immediate base class.\n",
    "\n",
    "Clear relationship: The single inheritance relationship establishes a clear  relationship between the derived class and the base class. This enhances code readability and maintainability.\n",
    "\n",
    "Avoiding complexity: Single inheritance helps avoid the complexities that can arise from inheriting multiple conflicting behaviors or properties from multiple base classes.\n",
    "\n",
    "\n",
    "Multiple Inheritance:\n",
    "Multiple inheritance refers to the inheritance relationship where a derived class can inherit from multiple base classes. In this case, a class can have multiple parent classes.\n",
    "\n",
    "Advantages:\n",
    "\n",
    "Power: Multiple inheritance allows a class to inherit and combine the properties and behaviors from multiple base classes.\n",
    "Code Reuse: We can use the same code everytime we needed it, without again writing it.\n",
    "\n",
    "Differences:\n",
    "Single inheritance allows a class to inherit from only one base class, providing a simpler class hierarchy, while multiple inheritance allows a class to inherit from multiple base classes, enabling extensive code reuse and expressive power but introducing complexity and potential conflicts.\n",
    "\n",
    "\n"
   ]
  },
  {
   "cell_type": "markdown",
   "id": "cc9025ee",
   "metadata": {},
   "source": [
    "3. Explain the terms \"base class\" and \"derived class\" in the context of inheritance."
   ]
  },
  {
   "cell_type": "markdown",
   "id": "4ee75824",
   "metadata": {},
   "source": [
    "A3. Base class: Also known as the \"parent class\" or \"superclass,\" a base class is the class from which other classes inherit properties and behaviors.The base class defines common attributes and methods that can be reused or extended by its derived classes.\n",
    "Derived class: Also known as the \"child class\" or \"subclass,\" a derived class is a class that inherits properties and behaviors from a base class. It extends the functionality of the base class by adding new members or overriding existing ones. A derived class can inherit from only one base class or multiple base classes.\n",
    "\n",
    "Eg: # Base class\n",
    "     class Teacher(Person):\n",
    "    def __init__(self, name, subject):\n",
    "        super().__init__(name)\n",
    "        self.subject1=subject\n",
    "        \n",
    "    def display_info(self):\n",
    "        super().display_info()\n",
    "        print(f\" subject is:{self.subject1}\")\n",
    "        \n",
    "       \n",
    "     # child class\n",
    "     class Vechicle:\n",
    "    def __init__(self,brand):\n",
    "        self.brand1=brand\n",
    "        \n",
    "    def Start(self):\n",
    "        print(f\" start your car of brand {self.brand1}\")"
   ]
  },
  {
   "cell_type": "markdown",
   "id": "95af9dae",
   "metadata": {},
   "source": [
    "Q4.What is the significance of the \"protected\" access modifier in inheritance? How does\n",
    "it differ from \"private\" and \"public\" modifiers?"
   ]
  },
  {
   "cell_type": "markdown",
   "id": "abf50679",
   "metadata": {},
   "source": [
    "A4. Significance of protected access modifiers: \n",
    "1. In the class where a member is declared, a protected member can be accessed directly, just like a private member.\n",
    "2. The member is accessible to derived classes, meaning it can be inherited and accessed by subclasses.\n",
    "3. A protected member is not accessible to unrelated classes that are not part of the inheritance hierarchy.\n",
    "\n",
    "Difference:\n",
    "Private members are only accessible within the class where they are declared. They cannot be inherited or accessed by derived classes.Whereas  protected members are accessed to their derived class.\n",
    "Public members are accessible from any class, including unrelated classes, and can be inherited and accessed by derived classes.\n"
   ]
  },
  {
   "cell_type": "markdown",
   "id": "8febe6e5",
   "metadata": {},
   "source": [
    "Q5. What is the purpose of the \"super\" keyword in inheritance? Provide an example."
   ]
  },
  {
   "cell_type": "markdown",
   "id": "9d4e33e2",
   "metadata": {},
   "source": [
    "A5. The super() function is used to give access to methods and properties of a parent class to child class.\n",
    "It returns a proxy object which represent the parent class.\n",
    "\n",
    "Eg: ## parent class\n",
    "class Person:\n",
    "    def __init__(self, name):\n",
    "        self.name1=name\n",
    "        \n",
    "    def display_info(self):\n",
    "        print(f\" name is: {self.name1}\")\n",
    "        \n",
    "        \n",
    "        ## derived class\n",
    "class Student(Person):   .\n",
    "    def __init__(self, name, grade):   \n",
    "        super().__init__(name)         \n",
    "        self.grade1=grade\n",
    "        \n",
    "    def display_info(self):    \n",
    "        super().display_info() \n",
    "        print(f\" grade is: {self.grade1}\")"
   ]
  },
  {
   "cell_type": "markdown",
   "id": "8c91f2f6",
   "metadata": {},
   "source": [
    "6. Create a base class called \"Vehicle\" with attributes like \"make\", \"model\", and \"year\".\n",
    "Then, create a derived class called \"Car\" that inherits from \"Vehicle\" and adds an\n",
    "attribute called \"fuel_type\". Implement appropriate methods in both classes."
   ]
  },
  {
   "cell_type": "code",
   "execution_count": 15,
   "id": "e73865b8",
   "metadata": {},
   "outputs": [],
   "source": [
    "class Vehicle:\n",
    "    def __init__(self, make, model, year):\n",
    "        self.make = make\n",
    "        self.model = model\n",
    "        self.year = year\n",
    "\n",
    "    def display_info(self):\n",
    "        print(f\" the vehicle {self.make} of model {self.model} was manufactured in {self.year}\")\n",
    "        \n",
    "\n",
    "class Car(Vehicle):\n",
    "    def __init__(self, make, model, year, fuel_type):\n",
    "        super().__init__(make, model, year)\n",
    "        self.fuel_type = fuel_type\n",
    "\n",
    "    def get_fuel_type(self):\n",
    "        super(). display_info()\n",
    "        print(f\" the car {self.make} of model {self.model} was manufactured in {self.year} runs in {self.fuel_type}\")"
   ]
  },
  {
   "cell_type": "code",
   "execution_count": 16,
   "id": "e8ff86f5",
   "metadata": {},
   "outputs": [],
   "source": [
    "car = Car(\"BMW\", \"X5\", 2013, \"Gasoline\")"
   ]
  },
  {
   "cell_type": "code",
   "execution_count": 17,
   "id": "8bdf4481",
   "metadata": {},
   "outputs": [
    {
     "data": {
      "text/plain": [
       "'BMW'"
      ]
     },
     "execution_count": 17,
     "metadata": {},
     "output_type": "execute_result"
    }
   ],
   "source": [
    "car.make"
   ]
  },
  {
   "cell_type": "code",
   "execution_count": 18,
   "id": "1e263b2f",
   "metadata": {},
   "outputs": [
    {
     "data": {
      "text/plain": [
       "'X5'"
      ]
     },
     "execution_count": 18,
     "metadata": {},
     "output_type": "execute_result"
    }
   ],
   "source": [
    "car.model"
   ]
  },
  {
   "cell_type": "code",
   "execution_count": 19,
   "id": "0952a12e",
   "metadata": {},
   "outputs": [
    {
     "data": {
      "text/plain": [
       "2013"
      ]
     },
     "execution_count": 19,
     "metadata": {},
     "output_type": "execute_result"
    }
   ],
   "source": [
    "car.year"
   ]
  },
  {
   "cell_type": "code",
   "execution_count": 20,
   "id": "f786f30b",
   "metadata": {},
   "outputs": [
    {
     "data": {
      "text/plain": [
       "'Gasoline'"
      ]
     },
     "execution_count": 20,
     "metadata": {},
     "output_type": "execute_result"
    }
   ],
   "source": [
    "car.fuel_type"
   ]
  },
  {
   "cell_type": "code",
   "execution_count": 21,
   "id": "6f16acd0",
   "metadata": {},
   "outputs": [
    {
     "name": "stdout",
     "output_type": "stream",
     "text": [
      " the vehicle BMW of model X5 was manufactured in 2013\n",
      " the car BMW of model X5 was manufactured in 2013 runs in Gasoline\n"
     ]
    }
   ],
   "source": [
    "car.get_fuel_type()"
   ]
  },
  {
   "cell_type": "markdown",
   "id": "b97f6708",
   "metadata": {},
   "source": [
    "7. Create a base class called \"Employee\" with attributes like \"name\" and \"salary.\"\n",
    "Derive two classes, \"Manager\" and \"Developer,\" from \"Employee.\" Add an additional\n",
    "attribute called \"department\" for the \"Manager\" class and \"programming_language\"\n",
    "for the \"Developer\" class."
   ]
  },
  {
   "cell_type": "code",
   "execution_count": 29,
   "id": "35011949",
   "metadata": {},
   "outputs": [],
   "source": [
    "class Employee:\n",
    "    def __init__(self, name, salary):\n",
    "        self.name = name\n",
    "        self.salary = salary\n",
    "\n",
    "    def display_info(self):\n",
    "        print(f\"the employee {self.name} has a salary {self.salary}\")\n",
    "        \n",
    "\n",
    "\n",
    "class Manager(Employee):\n",
    "    def __init__(self, name, salary, department):\n",
    "        super().__init__(name, salary)\n",
    "        self.department = department\n",
    "\n",
    "    def get_department(self):\n",
    "        super().display_info()\n",
    "        print(f\"the manager {self.name} has a salary {self.salary} working in {self.department} \")\n",
    "\n",
    "\n",
    "class Developer(Employee):\n",
    "    def __init__(self, name, salary, programming_language):\n",
    "        super().__init__(name, salary)\n",
    "        self.programming_language = programming_language\n",
    "\n",
    "    def get_programming_language(self):\n",
    "        super().display_info()\n",
    "        print(f\"the manager {self.name} has a salary {self.salary} working in {self.programming_language} \")\n",
    "        "
   ]
  },
  {
   "cell_type": "code",
   "execution_count": 30,
   "id": "083dc745",
   "metadata": {},
   "outputs": [],
   "source": [
    "manager = Manager(\"Tom\", 50000, \"IT\")"
   ]
  },
  {
   "cell_type": "code",
   "execution_count": 31,
   "id": "c40e3f4f",
   "metadata": {},
   "outputs": [
    {
     "data": {
      "text/plain": [
       "'Tom'"
      ]
     },
     "execution_count": 31,
     "metadata": {},
     "output_type": "execute_result"
    }
   ],
   "source": [
    "manager.name"
   ]
  },
  {
   "cell_type": "code",
   "execution_count": 32,
   "id": "3076ac94",
   "metadata": {},
   "outputs": [
    {
     "data": {
      "text/plain": [
       "50000"
      ]
     },
     "execution_count": 32,
     "metadata": {},
     "output_type": "execute_result"
    }
   ],
   "source": [
    "manager.salary"
   ]
  },
  {
   "cell_type": "code",
   "execution_count": 33,
   "id": "2ebf4c82",
   "metadata": {},
   "outputs": [
    {
     "data": {
      "text/plain": [
       "'IT'"
      ]
     },
     "execution_count": 33,
     "metadata": {},
     "output_type": "execute_result"
    }
   ],
   "source": [
    "manager.department"
   ]
  },
  {
   "cell_type": "code",
   "execution_count": 34,
   "id": "216fc389",
   "metadata": {},
   "outputs": [
    {
     "name": "stdout",
     "output_type": "stream",
     "text": [
      "the employee Tom has a salary 50000\n",
      "the manager Tom has a salary 50000 working in IT \n"
     ]
    }
   ],
   "source": [
    "manager.get_department()"
   ]
  },
  {
   "cell_type": "code",
   "execution_count": 35,
   "id": "5454d4cb",
   "metadata": {},
   "outputs": [],
   "source": [
    "developer = Developer(\"Jerry\", 40000, \"Python\")"
   ]
  },
  {
   "cell_type": "code",
   "execution_count": 36,
   "id": "65c2ec31",
   "metadata": {},
   "outputs": [
    {
     "data": {
      "text/plain": [
       "'Jerry'"
      ]
     },
     "execution_count": 36,
     "metadata": {},
     "output_type": "execute_result"
    }
   ],
   "source": [
    "developer.name"
   ]
  },
  {
   "cell_type": "code",
   "execution_count": 37,
   "id": "a78bf04b",
   "metadata": {},
   "outputs": [
    {
     "data": {
      "text/plain": [
       "40000"
      ]
     },
     "execution_count": 37,
     "metadata": {},
     "output_type": "execute_result"
    }
   ],
   "source": [
    "developer.salary"
   ]
  },
  {
   "cell_type": "code",
   "execution_count": 38,
   "id": "72665c7f",
   "metadata": {},
   "outputs": [
    {
     "data": {
      "text/plain": [
       "'Python'"
      ]
     },
     "execution_count": 38,
     "metadata": {},
     "output_type": "execute_result"
    }
   ],
   "source": [
    "developer.programming_language"
   ]
  },
  {
   "cell_type": "code",
   "execution_count": 39,
   "id": "4e779230",
   "metadata": {},
   "outputs": [
    {
     "name": "stdout",
     "output_type": "stream",
     "text": [
      "the employee Jerry has a salary 40000\n",
      "the manager Jerry has a salary 40000 working in Python \n"
     ]
    }
   ],
   "source": [
    "developer.get_programming_language()"
   ]
  },
  {
   "cell_type": "markdown",
   "id": "e9c58a91",
   "metadata": {},
   "source": [
    "8. Design a base class called \"Shape\" with attributes like \"colour\" and \"border_width.\"\n",
    "Create derived classes, \"Rectangle\" and \"Circle,\" that inherit from \"Shape\" and add\n",
    "specific attributes like \"length\" and \"width\" for the \"Rectangle\" class and \"radius\" for\n",
    "the \"Circle\" class."
   ]
  },
  {
   "cell_type": "code",
   "execution_count": 1,
   "id": "0f95828d",
   "metadata": {},
   "outputs": [],
   "source": [
    "class Shape:\n",
    "    def __init__(self, colour, border_width):\n",
    "        self.colour = colour\n",
    "        self.border_width = border_width\n",
    "\n",
    "    def display_info(self):\n",
    "        print(f\"the shape has colour {self.colour} with border width {self.border_width}\")\n",
    "\n",
    "\n",
    "class Rectangle(Shape):\n",
    "    def __init__(self, colour, border_width, length, width):\n",
    "        super().__init__(colour, border_width)\n",
    "        self.length = length\n",
    "        self.width = width\n",
    "\n",
    "    def get_area(self):\n",
    "        super().display_info()\n",
    "        self.area=self.length* self.width\n",
    "        print(f\"the shape is rectangle and area is {self.area} having length {self.length} and width {self.width}\")\n",
    "        \n",
    "\n",
    "\n",
    "class Circle(Shape):\n",
    "    def __init__(self, colour, border_width, radius):\n",
    "        super().__init__(colour, border_width)\n",
    "        self.radius = radius\n",
    "\n",
    "    def get_radius(self):\n",
    "        super().display_info()\n",
    "        print(f\"the rdius of circlre is {self.radius}\")"
   ]
  },
  {
   "cell_type": "code",
   "execution_count": 2,
   "id": "6d571c1a",
   "metadata": {},
   "outputs": [],
   "source": [
    "rectangle = Rectangle(\"Red\", 2, 5, 3)"
   ]
  },
  {
   "cell_type": "code",
   "execution_count": 3,
   "id": "ae128422",
   "metadata": {},
   "outputs": [
    {
     "data": {
      "text/plain": [
       "'Red'"
      ]
     },
     "execution_count": 3,
     "metadata": {},
     "output_type": "execute_result"
    }
   ],
   "source": [
    "rectangle.colour"
   ]
  },
  {
   "cell_type": "code",
   "execution_count": 4,
   "id": "7a18a78a",
   "metadata": {},
   "outputs": [
    {
     "data": {
      "text/plain": [
       "2"
      ]
     },
     "execution_count": 4,
     "metadata": {},
     "output_type": "execute_result"
    }
   ],
   "source": [
    "rectangle.border_width"
   ]
  },
  {
   "cell_type": "code",
   "execution_count": 5,
   "id": "8fb517ef",
   "metadata": {},
   "outputs": [
    {
     "data": {
      "text/plain": [
       "5"
      ]
     },
     "execution_count": 5,
     "metadata": {},
     "output_type": "execute_result"
    }
   ],
   "source": [
    "rectangle.length"
   ]
  },
  {
   "cell_type": "code",
   "execution_count": 6,
   "id": "c8e66097",
   "metadata": {},
   "outputs": [
    {
     "data": {
      "text/plain": [
       "3"
      ]
     },
     "execution_count": 6,
     "metadata": {},
     "output_type": "execute_result"
    }
   ],
   "source": [
    "rectangle.width"
   ]
  },
  {
   "cell_type": "code",
   "execution_count": 7,
   "id": "56c5a036",
   "metadata": {},
   "outputs": [
    {
     "name": "stdout",
     "output_type": "stream",
     "text": [
      "the shape has colour Red with border width 2\n",
      "the shape is rectangle and area is 15 having length 5 and width 3\n"
     ]
    }
   ],
   "source": [
    "rectangle.get_area()"
   ]
  },
  {
   "cell_type": "code",
   "execution_count": 8,
   "id": "687355dd",
   "metadata": {},
   "outputs": [],
   "source": [
    "circle = Circle(\"Blue\", 1, 4)"
   ]
  },
  {
   "cell_type": "code",
   "execution_count": 9,
   "id": "4baa72cd",
   "metadata": {},
   "outputs": [
    {
     "data": {
      "text/plain": [
       "'Blue'"
      ]
     },
     "execution_count": 9,
     "metadata": {},
     "output_type": "execute_result"
    }
   ],
   "source": [
    "circle.colour"
   ]
  },
  {
   "cell_type": "code",
   "execution_count": 10,
   "id": "f408a748",
   "metadata": {},
   "outputs": [
    {
     "data": {
      "text/plain": [
       "1"
      ]
     },
     "execution_count": 10,
     "metadata": {},
     "output_type": "execute_result"
    }
   ],
   "source": [
    "circle.border_width"
   ]
  },
  {
   "cell_type": "code",
   "execution_count": 11,
   "id": "bf3f3455",
   "metadata": {},
   "outputs": [
    {
     "data": {
      "text/plain": [
       "4"
      ]
     },
     "execution_count": 11,
     "metadata": {},
     "output_type": "execute_result"
    }
   ],
   "source": [
    "circle.radius"
   ]
  },
  {
   "cell_type": "code",
   "execution_count": 12,
   "id": "386f1b03",
   "metadata": {},
   "outputs": [
    {
     "name": "stdout",
     "output_type": "stream",
     "text": [
      "the shape has colour Blue with border width 1\n",
      "the rdius of circlre is 4\n"
     ]
    }
   ],
   "source": [
    "circle.get_radius()"
   ]
  },
  {
   "cell_type": "markdown",
   "id": "1bef72d1",
   "metadata": {},
   "source": [
    "9. Create a base class called \"Device\" with attributes like \"brand\" and \"model.\" Derive\n",
    "two classes, \"Phone\" and \"Tablet,\" from \"Device.\" Add specific attributes like\n",
    "\"screen_size\" for the \"Phone\" class and \"battery_capacity\" for the \"Tablet\" class."
   ]
  },
  {
   "cell_type": "code",
   "execution_count": 29,
   "id": "2daec442",
   "metadata": {},
   "outputs": [],
   "source": [
    "class Device:\n",
    "    def __init__(self, brand, model):\n",
    "        self.brand = brand\n",
    "        self.model = model\n",
    "        \n",
    "    def display_info(self):\n",
    "        print(f\"the device is of brand {self.brand} and model {self.model}\")\n",
    "\n"
   ]
  },
  {
   "cell_type": "code",
   "execution_count": 30,
   "id": "0e807100",
   "metadata": {},
   "outputs": [],
   "source": [
    "class Phone(Device):\n",
    "    def __init__(self, brand, model, screen_size):\n",
    "        super().__init__(brand, model)\n",
    "        self.screen_size = screen_size\n",
    "        \n",
    "    def display_info(self):\n",
    "        super().display_info()\n",
    "        print(f\"the phone is of brand {self.brand} and model {self.model} of screen size {self.screen_size}\")\n",
    "\n"
   ]
  },
  {
   "cell_type": "code",
   "execution_count": 31,
   "id": "1361935f",
   "metadata": {},
   "outputs": [],
   "source": [
    "class Tablet(Device):\n",
    "    def __init__(self, brand, model, battery_capacity):\n",
    "        super().__init__(brand, model)\n",
    "        self.battery_capacity = battery_capacity\n",
    "        \n",
    "    def display_info(self):\n",
    "        super().display_info()\n",
    "        print(f\"the tablet is of brand {self.brand} and model {self.model} of battery  {self.battery_capacity}\") "
   ]
  },
  {
   "cell_type": "code",
   "execution_count": 32,
   "id": "32eb15a8",
   "metadata": {},
   "outputs": [],
   "source": [
    "phone = Phone(\"Apple\", \"iPhone 14\", 6.6)"
   ]
  },
  {
   "cell_type": "code",
   "execution_count": 33,
   "id": "589bde35",
   "metadata": {},
   "outputs": [
    {
     "data": {
      "text/plain": [
       "'Apple'"
      ]
     },
     "execution_count": 33,
     "metadata": {},
     "output_type": "execute_result"
    }
   ],
   "source": [
    "phone.brand"
   ]
  },
  {
   "cell_type": "code",
   "execution_count": 34,
   "id": "2dcd71ca",
   "metadata": {},
   "outputs": [
    {
     "data": {
      "text/plain": [
       "'iPhone 14'"
      ]
     },
     "execution_count": 34,
     "metadata": {},
     "output_type": "execute_result"
    }
   ],
   "source": [
    "phone.model"
   ]
  },
  {
   "cell_type": "code",
   "execution_count": 35,
   "id": "1324e8a2",
   "metadata": {},
   "outputs": [
    {
     "data": {
      "text/plain": [
       "6.6"
      ]
     },
     "execution_count": 35,
     "metadata": {},
     "output_type": "execute_result"
    }
   ],
   "source": [
    "phone.screen_size"
   ]
  },
  {
   "cell_type": "code",
   "execution_count": 36,
   "id": "5fc7a09d",
   "metadata": {},
   "outputs": [
    {
     "name": "stdout",
     "output_type": "stream",
     "text": [
      "the device is of brand Apple and model iPhone 14\n",
      "the phone is of brand Apple and model iPhone 14 of screen size 6.6\n"
     ]
    }
   ],
   "source": [
    "phone.display_info()"
   ]
  },
  {
   "cell_type": "code",
   "execution_count": 37,
   "id": "e88b1c14",
   "metadata": {},
   "outputs": [],
   "source": [
    "tablet = Tablet(\"Samsung\", \"Galaxy Tab S7\", 8000)"
   ]
  },
  {
   "cell_type": "code",
   "execution_count": 38,
   "id": "a240ed86",
   "metadata": {},
   "outputs": [
    {
     "data": {
      "text/plain": [
       "'Samsung'"
      ]
     },
     "execution_count": 38,
     "metadata": {},
     "output_type": "execute_result"
    }
   ],
   "source": [
    "tablet.brand"
   ]
  },
  {
   "cell_type": "code",
   "execution_count": 39,
   "id": "def4daf4",
   "metadata": {},
   "outputs": [
    {
     "data": {
      "text/plain": [
       "'Galaxy Tab S7'"
      ]
     },
     "execution_count": 39,
     "metadata": {},
     "output_type": "execute_result"
    }
   ],
   "source": [
    "tablet.model"
   ]
  },
  {
   "cell_type": "code",
   "execution_count": 40,
   "id": "f1cbfc8e",
   "metadata": {},
   "outputs": [
    {
     "data": {
      "text/plain": [
       "8000"
      ]
     },
     "execution_count": 40,
     "metadata": {},
     "output_type": "execute_result"
    }
   ],
   "source": [
    "tablet.battery_capacity"
   ]
  },
  {
   "cell_type": "code",
   "execution_count": 41,
   "id": "fc5a1237",
   "metadata": {},
   "outputs": [
    {
     "name": "stdout",
     "output_type": "stream",
     "text": [
      "the device is of brand Samsung and model Galaxy Tab S7\n",
      "the tablet is of brand Samsung and model Galaxy Tab S7 of battery  8000\n"
     ]
    }
   ],
   "source": [
    "tablet.display_info()"
   ]
  },
  {
   "cell_type": "markdown",
   "id": "b991db0b",
   "metadata": {},
   "source": [
    "10. Create a base class called \"BankAccount\" with attributes like \"account_number\" and\n",
    "\"balance.\" Derive two classes, \"SavingsAccount\" and \"CheckingAccount,\" from\n",
    "\"BankAccount.\" Add specific methods like \"calculate_interest\" for the\n",
    "\"SavingsAccount\" class and \"deduct_fees\" for the \"CheckingAccount\" class."
   ]
  },
  {
   "cell_type": "code",
   "execution_count": 43,
   "id": "abf82bb4",
   "metadata": {},
   "outputs": [],
   "source": [
    "class BankAccount:\n",
    "    def __init__(self, account_number, balance):\n",
    "        self.account_number = account_number\n",
    "        self.balance = balance\n",
    "        \n",
    "class SavingsAccount(BankAccount):\n",
    "    def __init__(self, account_number, balance):\n",
    "        super().__init__(account_number, balance)\n",
    "\n",
    "    def calculate_interest(self, interest_rate):\n",
    "        interest = self.balance * interest_rate\n",
    "        self.balance += interest\n",
    "        return interest\n",
    "\n",
    "class CheckingAccount(BankAccount):\n",
    "    def __init__(self, account_number, balance):\n",
    "        super().__init__(account_number, balance)\n",
    "\n",
    "    def deduct_fees(self, fee):\n",
    "        self.balance -= fee"
   ]
  },
  {
   "cell_type": "code",
   "execution_count": 44,
   "id": "e8ee3d9f",
   "metadata": {},
   "outputs": [],
   "source": [
    "savings_account = SavingsAccount(\"123456\", 50000)"
   ]
  },
  {
   "cell_type": "code",
   "execution_count": 45,
   "id": "509af1e4",
   "metadata": {},
   "outputs": [
    {
     "data": {
      "text/plain": [
       "'123456'"
      ]
     },
     "execution_count": 45,
     "metadata": {},
     "output_type": "execute_result"
    }
   ],
   "source": [
    "savings_account.account_number"
   ]
  },
  {
   "cell_type": "code",
   "execution_count": 46,
   "id": "bc253b3e",
   "metadata": {},
   "outputs": [
    {
     "data": {
      "text/plain": [
       "50000"
      ]
     },
     "execution_count": 46,
     "metadata": {},
     "output_type": "execute_result"
    }
   ],
   "source": [
    "savings_account.balance"
   ]
  },
  {
   "cell_type": "code",
   "execution_count": 47,
   "id": "1998434b",
   "metadata": {},
   "outputs": [
    {
     "data": {
      "text/plain": [
       "2500.0"
      ]
     },
     "execution_count": 47,
     "metadata": {},
     "output_type": "execute_result"
    }
   ],
   "source": [
    "savings_account.calculate_interest(0.05)"
   ]
  },
  {
   "cell_type": "code",
   "execution_count": 50,
   "id": "cc2ace52",
   "metadata": {},
   "outputs": [],
   "source": [
    "checking_account = CheckingAccount(\"456789\", 3500)"
   ]
  },
  {
   "cell_type": "code",
   "execution_count": 51,
   "id": "a920a4ac",
   "metadata": {},
   "outputs": [
    {
     "data": {
      "text/plain": [
       "'456789'"
      ]
     },
     "execution_count": 51,
     "metadata": {},
     "output_type": "execute_result"
    }
   ],
   "source": [
    "checking_account.account_number"
   ]
  },
  {
   "cell_type": "code",
   "execution_count": 52,
   "id": "2ab5199b",
   "metadata": {},
   "outputs": [
    {
     "data": {
      "text/plain": [
       "3500"
      ]
     },
     "execution_count": 52,
     "metadata": {},
     "output_type": "execute_result"
    }
   ],
   "source": [
    "checking_account.balance"
   ]
  },
  {
   "cell_type": "code",
   "execution_count": 53,
   "id": "eddbbc0a",
   "metadata": {},
   "outputs": [],
   "source": [
    "checking_account.deduct_fees(100)"
   ]
  },
  {
   "cell_type": "code",
   "execution_count": 54,
   "id": "6538a225",
   "metadata": {},
   "outputs": [
    {
     "name": "stdout",
     "output_type": "stream",
     "text": [
      "3400\n"
     ]
    }
   ],
   "source": [
    "print(checking_account.balance)"
   ]
  },
  {
   "cell_type": "code",
   "execution_count": null,
   "id": "0392f8f3",
   "metadata": {},
   "outputs": [],
   "source": []
  }
 ],
 "metadata": {
  "kernelspec": {
   "display_name": "Python 3 (ipykernel)",
   "language": "python",
   "name": "python3"
  },
  "language_info": {
   "codemirror_mode": {
    "name": "ipython",
    "version": 3
   },
   "file_extension": ".py",
   "mimetype": "text/x-python",
   "name": "python",
   "nbconvert_exporter": "python",
   "pygments_lexer": "ipython3",
   "version": "3.10.9"
  }
 },
 "nbformat": 4,
 "nbformat_minor": 5
}
